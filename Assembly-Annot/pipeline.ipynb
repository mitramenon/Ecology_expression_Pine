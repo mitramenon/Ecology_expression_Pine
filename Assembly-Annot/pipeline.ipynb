{
 "cells": [
  {
   "cell_type": "markdown",
   "metadata": {},
   "source": [
    "# Conduct trimming of raw reads"
   ]
  },
  {
   "cell_type": "markdown",
   "metadata": {},
   "source": [
    "Generate list of all the .fq files. Assumes we are the directory with the raw reads"
   ]
  },
  {
   "cell_type": "code",
   "execution_count": null,
   "metadata": {},
   "outputs": [],
   "source": [
    "ls -d $PWD/*.fq.gz > fqFiles"
   ]
  },
  {
   "cell_type": "markdown",
   "metadata": {},
   "source": [
    "Generate multiple trimmed.sh files per sample "
   ]
  },
  {
   "cell_type": "markdown",
   "metadata": {},
   "source": [
    "from os import listdir as ls\n",
    "from os import path as op\n",
    "import os,sys\n",
    "import os\n",
    "import shutil"
   ]
  },
  {
   "cell_type": "code",
   "execution_count": null,
   "metadata": {},
   "outputs": [],
   "source": [
    "home = \"/home/menonm2/eckertlab/Mitra/chapter3/rawData/128.120.88.251/H202SC19100774/raw_data\"\n",
    "f=open(\"fqFiles\")\n",
    "line_f=f.readlines()"
   ]
  },
  {
   "cell_type": "markdown",
   "metadata": {},
   "source": [
    "Loop through samples with a step of 2 to get both F and R reads"
   ]
  },
  {
   "cell_type": "code",
   "execution_count": null,
   "metadata": {},
   "outputs": [],
   "source": [
    "\n",
    "for i in range(0,len(line_f),2):\n",
    "\tF = str.strip(line_f[i]) #STRIP TO REMOVE THE WHITE SPACE AND ALL OTHER CHARACTERS AT EITHER END OF LINE\n",
    "\tR = str.strip(line_f[i+1])\n",
    "\n",
    "\n",
    "#STEP 1\n",
    "\ta1F=F.split(\"/\")[-1]\n",
    "\ta1R=R.split(\"/\")[-1]\n",
    "#STEP 2 \n",
    "\ta2=a1F.split(\"_\")[1]\n",
    "\t\n",
    "#STEP 3: make a directory\n",
    "\t dest1 = op.join(home,\"Trim_%s\" % a2)\n",
    "\t os.makedirs(dest1)\n",
    "#STEP4: COPY FILES OVER (not needed currently)\n",
    "\t\n",
    "\tdest2_F = op.join(dest1,a1F)\n",
    "\tdest2_R = op.join(dest1,a1R)\n",
    "\t#shutil.copyfile(F,dest2_F)\n",
    "\t#shutil.copyfile(R,dest2_R)\n",
    "\t\n",
    "\t\n",
    "#STEP5: create shell file\n",
    "\n",
    "\n",
    "text = '''#!/usr/bin/env bash\n",
    "#$ -N trim%s\n",
    "#$ -S /bin/bash\n",
    "#$ -V\n",
    "#$ -j y\n",
    "#$ -pe smp 20\n",
    "#$ -cwd\n",
    "#$ -e ./\n",
    "#$ -o ./\n",
    "#$ -l mem_free=50G\n",
    "\n",
    "trim_galore --fastqc -q 20 -a AATGATACGGCGACCACCGAGA -a2 CAAGCAGAAGACGGCATACG -stringency 5 --length 20 --paired %s %s --trim-n -j 4 --retain_unpaired\n",
    "\n",
    "#change names of the trimmed files\n",
    " trim1F=$(sed 's/.fq.gz/_val_1.fq.gz/g' <<<\"%s\")\n",
    " trim1R=$(sed 's/.fq.gz/_val_2.fq.gz/g' <<<\"%s\")\n",
    "\n",
    "#now remove polyAs from the previous trimmed files\n",
    "trim_galore --polyA --paired $trim1F $trim1R -j 4\n",
    "\n",
    "\t''' % (a2,F,R,dest2_F,dest2_R)\n",
    "\n",
    "\tfilE = op.join(dest1,\"Trim%s.sh\" % a2)\n",
    "\twith open (filE,'w') as o:\n",
    "    \to.write(\"%s\" % text)\n"
   ]
  },
  {
   "cell_type": "markdown",
   "metadata": {},
   "source": [
    "Now actually submit all the trimming jobs"
   ]
  },
  {
   "cell_type": "code",
   "execution_count": null,
   "metadata": {},
   "outputs": [],
   "source": [
    "for D in ./Trim*; do\n",
    "\t#echo \"$D\"\n",
    "\tcd \"$D\"\n",
    "\tqsub Trim*\n",
    "\tcd ../\n",
    "done"
   ]
  },
  {
   "cell_type": "markdown",
   "metadata": {},
   "source": [
    "# Assemble transcriptome"
   ]
  },
  {
   "cell_type": "markdown",
   "metadata": {},
   "source": [
    "*Here we are following guidlines for assembling species with high genetic diversity, we obtain several transcriptomes and later reduce the redudancy*"
   ]
  },
  {
   "cell_type": "markdown",
   "metadata": {},
   "source": [
    "We will do this for a subset of the samples at BS and WP (both gardens, to get a good representation of the transcriptome)"
   ]
  },
  {
   "cell_type": "code",
   "execution_count": null,
   "metadata": {},
   "outputs": [],
   "source": [
    "t=open(\"trimmed_subset\") #this is trimmed fastq names with full path\n",
    "line_t=t.readlines()\n"
   ]
  },
  {
   "cell_type": "markdown",
   "metadata": {},
   "source": [
    "Loop through the subset of trimmed directories"
   ]
  },
  {
   "cell_type": "code",
   "execution_count": null,
   "metadata": {},
   "outputs": [],
   "source": [
    "for i in range(0,len(line_t),2):\n",
    "    \n",
    "\tF = str.strip(line_f[i]) #STRIP TO REMOVE THE WHITE SPACE AND ALL OTHER CHARACTERS AT EITHER END OF LINE\n",
    "\tR = str.strip(line_f[i+1])\n",
    "\n",
    "\tdir=F.split(\"/\")[-2]\n",
    "\n",
    "text = '''#!/usr/bin/env bash\n",
    "#$ -N assemble%s\n",
    "#$ -S /bin/bash\n",
    "#$ -V\n",
    "#$ -j y\n",
    "#$ -pe smp 20\n",
    "#$ -cwd\n",
    "#$ -e ./\n",
    "#$ -o ./\n",
    "#$ -l mem_free=50G\n",
    "\n",
    "Trinity --seqType fq --max_memory 50G --normalize_reads --min_contig_length 300 --left %s  --right %s --CPU 15\n",
    "\n",
    "\t''' % (dir,F,R)\n",
    "\n",
    "\tfilE = op.join(dir,\"Assemble%s.sh\" % dir)\n",
    "\twith open (filE,'w') as o:\n",
    "    \to.write(\"%s\" % text)\n"
   ]
  },
  {
   "cell_type": "code",
   "execution_count": null,
   "metadata": {},
   "outputs": [],
   "source": [
    "for D in ./Trim*; do\n",
    "\t#echo \"$D\"\n",
    "\tcd \"$D\"\n",
    "\tqsub Assemble*\n",
    "\tcd ../\n",
    "done"
   ]
  },
  {
   "cell_type": "markdown",
   "metadata": {},
   "source": [
    "# Combine all assemblies and reduce redudancy and get annotations for final assembly"
   ]
  },
  {
   "cell_type": "code",
   "execution_count": null,
   "metadata": {},
   "outputs": [],
   "source": [
    "find $PWD -name \"Trinity.fasta\" > AssembledGenomes"
   ]
  },
  {
   "cell_type": "markdown",
   "metadata": {},
   "source": [
    "Modify this Assembled Genomes file and turn it into a bash script"
   ]
  },
  {
   "cell_type": "code",
   "execution_count": null,
   "metadata": {},
   "outputs": [],
   "source": [
    "#!/usr/bin/env bash\n",
    "#$ -N refineAssembly\n",
    "#$ -S /bin/bash\n",
    "#$ -V\n",
    "#$ -j y\n",
    "#$ -pe smp 20\n",
    "#$ -cwd\n",
    "#$ -e ./\n",
    "#$ -o ./\n",
    "#$ -l mem_free=50G\n",
    "\n",
    "\n",
    "\n",
    "source activate exonerate\n",
    "export fastanrdb=/home/menonm2/g/anaconda3/pkgs/exonerate-2.4.0-0/bin/fastanrdb\n",
    "export PATH=$HOME/g/src/dDocent_run/cd-hit-v4.6.1-2012-08-27:$PATH\n",
    "\n",
    "#List all the aseembled fasta here (copy the paths from the file above)\n",
    "\n",
    "f1=\"../denovo16729/trinity_out_dir/Trinity.fasta\"\n",
    "f2=\"../denovo15092/trinity_out_dir/Trinity.fasta\"\n",
    "f3=\"../denovo14511/trinity_out_dir/Trinity.fasta\"\n",
    "f4=\"../denovo15797/trinity_out_dir/Trinity.fasta\"\n",
    "f5=\"../denovo7165/trinity_out_dir/Trinity.fasta\"\n",
    "f6=\"../denovo7365/trinity_out_dir/Trinity.fasta\"\n",
    "f7=\"../denovo7416/trinity_out_dir/Trinity.fasta\"\n",
    "f8=\"../denovo7714/trinity_out_dir/Trinity.fasta\"\n",
    "f9=\"../denovo8102/trinity_out_dir/Trinity.fasta\"\n",
    "f10=\"../denovo8168/trinity_out_dir/Trinity.fasta\"\n",
    "f11=\"../BSdenovo13353/trinity_out_dir/Trinity.fasta\"\n",
    "f12=\"../BSdenovo13283/trinity_out_dir/Trinity.fasta\"\n",
    "f13=\"../BSdenovo13733/trinity_out_dir/Trinity.fasta\"\n",
    "f14=\"../BSdenovo13508/trinity_out_dir/Trinity.fasta\"\n",
    "f15=\"../BSdenovo13779/trinity_out_dir/Trinity.fasta\"\n",
    "f16=\"../BSdenovo13736/trinity_out_dir/Trinity.fasta\"\n",
    "f17=\"../BSdenovo22442/trinity_out_dir/Trinity.fasta\"\n",
    "f18=\"../BSdenovo23524/trinity_out_dir/Trinity.fasta\"\n",
    "f19=\"../BSdenovo23762/trinity_out_dir/Trinity.fasta\"\n",
    "f20=\"../BSdenovo23832/trinity_out_dir/Trinity.fasta\"\n",
    "\n",
    "/home/menonm2/g/src/evigene19jan01/scripts/rnaseq/trformat.pl  -output combined.fasta -input $f1 $f2 $f3 $f4 $f5 $f6 $f7 $f8 $f9 $f10 $f11 $f12 $f13 $f14 $f15 $f16 $f17 $f18 $f19 $f20\n",
    "\n",
    "~/g/src/evigene19jan01/scripts/prot/tr2aacds.pl -tidy -NCPU 10 -MAXMEM 131072 -log -cdna combined.fasta\n",
    "\n",
    "\n",
    "$HOME/g/src/EnTAP-v0.9.1-beta/EnTAP --runP -i ../EviGene/okayset/combined.okay.aa --paths $HOME/g/src/EnTAP-v0.9.1-beta/entap_config.txt -d $HOME/eckertlab/databases/Diamond/bin/uniprot_sprot.dmnd -c fungi -c bacteria --taxon Pinus --qcoverage 70 --tcoverage 70 --out-dir $HOME/eckertlab/Mitra/chapter3/pipeline/denovo/byInd/EnTAP\n"
   ]
  }
 ],
 "metadata": {
  "language_info": {
   "name": "python"
  }
 },
 "nbformat": 4,
 "nbformat_minor": 2
}
